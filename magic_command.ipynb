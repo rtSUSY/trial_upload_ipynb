{
 "cells": [
  {
   "cell_type": "code",
   "execution_count": 1,
   "metadata": {
    "scrolled": true
   },
   "outputs": [
    {
     "name": "stdout",
     "output_type": "stream",
     "text": [
      " ドライブ C のボリューム ラベルは OS です\n",
      " ボリューム シリアル番号は 083B-02B9 です\n",
      "\n",
      " C:\\Users\\Tsuji.Ryoji\\Workarea\\working20181022\\jupyter_pandas のディレクトリ\n",
      "\n",
      "2018/10/25  18:33    <DIR>          .\n",
      "2018/10/25  18:33    <DIR>          ..\n",
      "2018/10/25  17:33    <DIR>          .ipynb_checkpoints\n",
      "2018/10/25  16:22             8,669 jupyter_jpn_font.ipynb\n",
      "2018/10/25  18:33            74,471 magic_command.ipynb\n",
      "2018/10/25  16:24             2,709 modify_matplotlib_setting.ipynb\n",
      "2018/10/25  18:22             9,159 oneshot_setting_jpn_font.ipynb\n",
      "2018/10/25  17:32            85,825 Untitled.ipynb\n",
      "               5 個のファイル             180,833 バイト\n",
      "               3 個のディレクトリ  196,899,459,072 バイトの空き領域\n"
     ]
    }
   ],
   "source": [
    "!dir"
   ]
  },
  {
   "cell_type": "code",
   "execution_count": 2,
   "metadata": {},
   "outputs": [
    {
     "name": "stdout",
     "output_type": "stream",
     "text": [
      " ドライブ C のボリューム ラベルは OS です\n",
      " ボリューム シリアル番号は 083B-02B9 です\n",
      "\n",
      " C:\\Users\\Tsuji.Ryoji\\Workarea\\working20181022\\jupyter_pandas のディレクトリ\n",
      "\n",
      "2018/10/25  18:33    <DIR>          .\n",
      "2018/10/25  18:33    <DIR>          ..\n",
      "2018/10/25  17:33    <DIR>          .ipynb_checkpoints\n",
      "2018/10/25  16:22             8,669 jupyter_jpn_font.ipynb\n",
      "2018/10/25  18:33            74,471 magic_command.ipynb\n",
      "2018/10/25  16:24             2,709 modify_matplotlib_setting.ipynb\n",
      "2018/10/25  18:22             9,159 oneshot_setting_jpn_font.ipynb\n",
      "2018/10/25  17:32            85,825 Untitled.ipynb\n",
      "               5 個のファイル             180,833 バイト\n",
      "               3 個のディレクトリ  196,899,459,072 バイトの空き領域\n",
      "_______________________________________________________________________________________________________________\n",
      "\n"
     ]
    },
    {
     "name": "stderr",
     "output_type": "stream",
     "text": [
      "'pwd' は、内部コマンドまたは外部コマンド、\n",
      "操作可能なプログラムまたはバッチ ファイルとして認識されていません。\n"
     ]
    }
   ],
   "source": [
    "!dir\n",
    "print(\"_______________________________________________________________________________________________________________\\n\")\n",
    "!pwd #呼ばれているのはwindows prompt\n"
   ]
  },
  {
   "cell_type": "code",
   "execution_count": 3,
   "metadata": {},
   "outputs": [
    {
     "data": {
      "text/plain": [
       "'C:\\\\Users\\\\Tsuji.Ryoji\\\\Workarea\\\\working20181022\\\\jupyter_pandas'"
      ]
     },
     "execution_count": 3,
     "metadata": {},
     "output_type": "execute_result"
    }
   ],
   "source": [
    "%pwd #this is a magic command which IPython kernel provide "
   ]
  },
  {
   "cell_type": "code",
   "execution_count": 4,
   "metadata": {},
   "outputs": [
    {
     "name": "stdout",
     "output_type": "stream",
     "text": [
      "Untitled.ipynb\n",
      "jupyter_jpn_font.ipynb\n",
      "magic_command.ipynb\n",
      "modify_matplotlib_setting.ipynb\n",
      "oneshot_setting_jpn_font.ipynb\n",
      " ドライブ C のボリューム ラベルは OS です\n",
      " ボリューム シリアル番号は 083B-02B9 です\n",
      "\n",
      " C:\\Users\\Tsuji.Ryoji\\Workarea\\working20181022\\jupyter_pandas のディレクトリ\n",
      "\n",
      "2018/10/25  18:33    <DIR>          .\n",
      "2018/10/25  18:33    <DIR>          ..\n",
      "2018/10/25  17:33    <DIR>          .ipynb_checkpoints\n",
      "2018/10/25  16:22             8,669 jupyter_jpn_font.ipynb\n",
      "2018/10/25  18:33            74,471 magic_command.ipynb\n",
      "2018/10/25  16:24             2,709 modify_matplotlib_setting.ipynb\n",
      "2018/10/25  18:22             9,159 oneshot_setting_jpn_font.ipynb\n",
      "2018/10/25  17:32            85,825 Untitled.ipynb\n",
      "               5 個のファイル             180,833 バイト\n",
      "               3 個のディレクトリ  196,899,475,456 バイトの空き領域\n",
      "command promptを呼んでいるはずだが、自分の環境だとlsが使える・・・？？？\n"
     ]
    }
   ],
   "source": [
    "#By the way,,,\n",
    "!ls \n",
    "!dir\n",
    "print(\"command promptを呼んでいるはずだが、自分の環境だとlsが使える・・・？？？\")"
   ]
  },
  {
   "cell_type": "code",
   "execution_count": 5,
   "metadata": {},
   "outputs": [
    {
     "name": "stdout",
     "output_type": "stream",
     "text": [
      "C:\\Users\\Tsuji.Ryoji\\Workarea\\working20181022\\jupyter_pandas\n",
      "C:\\Users\\Tsuji.Ryoji\\Workarea\\working20181022\\jupyter_pandas\n"
     ]
    }
   ],
   "source": [
    "# %pwdの内部的な意味\n",
    "import os\n",
    "print(os.getcwd())\n",
    "\n",
    "worikng_dir = %pwd\n",
    "print(worikng_dir)"
   ]
  },
  {
   "cell_type": "code",
   "execution_count": 6,
   "metadata": {},
   "outputs": [
    {
     "name": "stdout",
     "output_type": "stream",
     "text": [
      "Wall time: 1.99 ms\n"
     ]
    },
    {
     "data": {
      "text/plain": [
       "4999950000"
      ]
     },
     "execution_count": 6,
     "metadata": {},
     "output_type": "execute_result"
    }
   ],
   "source": [
    "%time sum(range(100000)) ###この行だけ計測"
   ]
  },
  {
   "cell_type": "code",
   "execution_count": 7,
   "metadata": {},
   "outputs": [
    {
     "name": "stdout",
     "output_type": "stream",
     "text": [
      "2.28 ms ± 132 µs per loop (mean ± std. dev. of 3 runs, 4 loops each)\n"
     ]
    }
   ],
   "source": [
    "%timeit  -n 4 -r 3 sum(range(100000))  ###この行だけ4ループを1回として、3回施行。参考書と出力が変更されている。"
   ]
  },
  {
   "cell_type": "code",
   "execution_count": 8,
   "metadata": {},
   "outputs": [
    {
     "name": "stderr",
     "output_type": "stream",
     "text": [
      "UsageError: Can't use statement directly after '%%time'!\n"
     ]
    }
   ],
   "source": [
    "%%time ###セル全体の施行を計測\n",
    "import time\n",
    "for num in range(2):\n",
    "    print(\"wait!!\")\n",
    "    time.sleep(3)"
   ]
  },
  {
   "cell_type": "code",
   "execution_count": null,
   "metadata": {},
   "outputs": [],
   "source": [
    "%%timeit -n 2 -r 3\n",
    "import time\n",
    "for num in range(2):\n",
    "    print(\"wait!!{}\".format(num))\n",
    "    time.sleep(1.0)\n"
   ]
  },
  {
   "cell_type": "code",
   "execution_count": null,
   "metadata": {},
   "outputs": [],
   "source": [
    "%history -l 10 #セルを1コマンドとして履歴10コマンドを表示。\n",
    "%ls #list\n",
    "%autosave 60 #defaul time is 120s /auto saveを60s毎にする命令。\n"
   ]
  },
  {
   "cell_type": "code",
   "execution_count": null,
   "metadata": {},
   "outputs": [],
   "source": [
    "#setting matplot displaying\n",
    "%matplotlib inline\n",
    "#inline, tk, notebook\n",
    "\n",
    "#import tkinter\n",
    "import os\n",
    "import numpy as np\n",
    "from matplotlib import pyplot as plt \n",
    "from matplotlib import rcParams\n",
    "\n",
    "#Default Setting\n",
    "rcParams[\"font.sans-serif\"] = \"Source Han Code JP\"\n",
    "rcParams[\"font.weight\"]     = \"regular\"\n",
    "rcParams[\"axes.titlesize\"]  = 15\n",
    "rcParams[\"ytick.labelsize\"] = 12\n",
    "rcParams[\"xtick.labelsize\"] = 12\n",
    "\n",
    "#plot\n",
    "np.random.seed(121)\n",
    "x = range(5)\n",
    "y = 10 + 5 * np.random.randn(5)\n",
    "\n",
    "fig = plt.figure()\n",
    "ax  = fig.add_subplot(111)\n",
    "\n",
    "#japanese font\n",
    "ax.set_title(\"日本語フォント使えます。\")\n",
    "\n",
    "#inserting data\n",
    "ax.bar(x, y)\n",
    "\n",
    "plt.show()"
   ]
  },
  {
   "cell_type": "code",
   "execution_count": null,
   "metadata": {},
   "outputs": [],
   "source": []
  }
 ],
 "metadata": {
  "kernelspec": {
   "display_name": "Python 3",
   "language": "python",
   "name": "python3"
  },
  "language_info": {
   "codemirror_mode": {
    "name": "ipython",
    "version": 3
   },
   "file_extension": ".py",
   "mimetype": "text/x-python",
   "name": "python",
   "nbconvert_exporter": "python",
   "pygments_lexer": "ipython3",
   "version": "3.6.6"
  }
 },
 "nbformat": 4,
 "nbformat_minor": 2
}
